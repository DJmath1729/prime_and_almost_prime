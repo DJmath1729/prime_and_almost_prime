{
 "cells": [
  {
   "cell_type": "code",
   "execution_count": 1,
   "id": "090fa491",
   "metadata": {},
   "outputs": [],
   "source": [
    "from sympy import prime\n",
    "from sympy import S\n",
    "import math\n",
    "import mpmath"
   ]
  },
  {
   "cell_type": "markdown",
   "id": "0e64690e",
   "metadata": {},
   "source": [
    "### Compute $k$ from Theorem 5.4 and the product over primes $q$ in the first term from the lower bound for $\\overline{R}_k(N)/N$"
   ]
  },
  {
   "cell_type": "code",
   "execution_count": 2,
   "id": "f48766dc",
   "metadata": {},
   "outputs": [],
   "source": [
    "def product_and_list_first_primes(L):\n",
    "    k = 2\n",
    "    first_term = 1\n",
    "    for index in range (2, L+2):\n",
    "        p = prime(index)\n",
    "        k = k * p\n",
    "        first_term = first_term * (1 - (p-1)/(p**2 - p - 1))\n",
    "    return (k, first_term)"
   ]
  },
  {
   "cell_type": "markdown",
   "id": "45826851",
   "metadata": {},
   "source": [
    "### Define $c_\\theta$ from Lemma 5.2"
   ]
  },
  {
   "cell_type": "code",
   "execution_count": 3,
   "id": "af5eb04f",
   "metadata": {},
   "outputs": [],
   "source": [
    "def c_theta(logX3):\n",
    "    return 5/(8*math.pi) + 2/logX3 + (3 + 1.93378 * 10**(-8))/(logX3**2) + 1.04320/(math.exp(logX3/6)*logX3**2)"
   ]
  },
  {
   "cell_type": "markdown",
   "id": "94f45312",
   "metadata": {},
   "source": [
    "### Define $E_C(N)$ from Lemma 5.3"
   ]
  },
  {
   "cell_type": "code",
   "execution_count": 4,
   "id": "f1109299",
   "metadata": {},
   "outputs": [],
   "source": [
    "def E_ind(logB,C,logN):\n",
    "    if C*logN < logB:\n",
    "        return 0\n",
    "    else:\n",
    "        return 1"
   ]
  },
  {
   "cell_type": "markdown",
   "id": "e1a9f347",
   "metadata": {},
   "source": [
    "### Define $G(x)$ from Theorem 5.4"
   ]
  },
  {
   "cell_type": "code",
   "execution_count": 5,
   "id": "da0d2238",
   "metadata": {},
   "outputs": [],
   "source": [
    "def G(x):\n",
    "    return math.exp(float(S.EulerGamma)) * (math.log(math.log(x))/x - float(mpmath.li(1/x)))+ 3/x"
   ]
  },
  {
   "cell_type": "markdown",
   "id": "92cf4ea7",
   "metadata": {},
   "source": [
    "### Compute the lower bound for $\\overline{R}_k(N)/N$ from Theorem 5.4"
   ]
  },
  {
   "cell_type": "code",
   "execution_count": 6,
   "id": "b8be7844",
   "metadata": {},
   "outputs": [],
   "source": [
    "def R(L, logN, logB, C):\n",
    "    k, almost_first_term = product_and_list_first_primes(L)\n",
    "    first_term = 2 * 0.37395 * almost_first_term\n",
    "    second_term = (4 + 3**(1/2))**L * math.exp(logB) * c_theta(logN) * (logN**2) / (3**L * math.exp(logN/2))\n",
    "    third_term = E_ind(logB,C,logN) * (1 + 2 * C) * 2**L * G( math.floor( math.exp(logB)/(k/2)**(1/2) ) ) / (1 - 2*C)\n",
    "    fourth_term = (7/3)**L * math.exp(-logN/2) + ( 4/3 + 3**(-1/2) )**L * math.exp(-C*logN) + 3**L * math.exp(-2*C*logN)\n",
    "    fifth_term = math.log(k)/math.exp(logN) + logN/math.exp(logN)\n",
    "    return (third_term, first_term - second_term - third_term - logN * fourth_term - fifth_term)"
   ]
  },
  {
   "cell_type": "markdown",
   "id": "24db06b4",
   "metadata": {},
   "source": [
    "### Compute $K$ from Proposition 5.6"
   ]
  },
  {
   "cell_type": "code",
   "execution_count": 7,
   "id": "9ce2d379",
   "metadata": {},
   "outputs": [],
   "source": [
    "def compute_K(L, logX2):\n",
    "    K = -1\n",
    "    s = 0\n",
    "    index = L+2\n",
    "    while s < logX2:\n",
    "        s = s + math.log(prime(index))\n",
    "        index = index + 1\n",
    "        K = K + 1\n",
    "    return K"
   ]
  },
  {
   "cell_type": "code",
   "execution_count": null,
   "id": "a48d63af",
   "metadata": {},
   "outputs": [],
   "source": []
  }
 ],
 "metadata": {
  "kernelspec": {
   "display_name": "Python 3 (ipykernel)",
   "language": "python",
   "name": "python3"
  },
  "language_info": {
   "codemirror_mode": {
    "name": "ipython",
    "version": 3
   },
   "file_extension": ".py",
   "mimetype": "text/x-python",
   "name": "python",
   "nbconvert_exporter": "python",
   "pygments_lexer": "ipython3",
   "version": "3.11.5"
  }
 },
 "nbformat": 4,
 "nbformat_minor": 5
}
